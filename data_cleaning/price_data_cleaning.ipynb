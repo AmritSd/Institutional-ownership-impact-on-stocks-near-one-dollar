{
 "cells": [
  {
   "cell_type": "code",
   "execution_count": 16,
   "metadata": {},
   "outputs": [],
   "source": [
    "# Data file\n",
    "path = './../data/price_data_2005-2022.csv'\n",
    "\n",
    "# Exchanges to keep - 1. NYSE, 2. AMEX, 3. NASDAQ\n",
    "filter_exchanges = True\n",
    "exchanges_to_keep = [1, 3]\n",
    "\n",
    "# Filter finacial stocks\n",
    "filter_financial = False\n",
    "\n",
    "# Fill forward zero prices\n",
    "fill_forward_prices = True\n",
    "fix_negative_prices = True\n",
    "\n",
    "# Substitute code 'B' with returns\n",
    "substitute_code_B = True\n",
    "# Substitute code 'C' with returns\n",
    "substitute_code_C = True\n",
    "# Drop code 'B' and 'C'\n",
    "drop_code_B_and_C = False\n",
    "\n",
    "# Keep only stocks that have been below threshold\n",
    "keep_only_below_threshold = True\n",
    "threshold = 6\n",
    "\n",
    "# Remove missing SHROUT\n",
    "remove_missing_shrout = True\n",
    "\n",
    "# Conver SHROUT from thousands\n",
    "convert_shrout_from_thousands = True\n"
   ]
  },
  {
   "cell_type": "code",
   "execution_count": 2,
   "metadata": {},
   "outputs": [],
   "source": [
    "import pandas as pd\n",
    "import numpy as np\n",
    "import matplotlib.pyplot as plt"
   ]
  },
  {
   "cell_type": "code",
   "execution_count": 3,
   "metadata": {},
   "outputs": [
    {
     "name": "stderr",
     "output_type": "stream",
     "text": [
      "C:\\Users\\amrit\\AppData\\Local\\Temp\\ipykernel_28264\\2746707363.py:2: DtypeWarning: Columns (3,6,10) have mixed types. Specify dtype option on import or set low_memory=False.\n",
      "  price_data = pd.read_csv(path)\n"
     ]
    }
   ],
   "source": [
    "# Read in data\n",
    "price_data = pd.read_csv(path)"
   ]
  },
  {
   "cell_type": "code",
   "execution_count": 4,
   "metadata": {},
   "outputs": [
    {
     "data": {
      "text/html": [
       "<div>\n",
       "<style scoped>\n",
       "    .dataframe tbody tr th:only-of-type {\n",
       "        vertical-align: middle;\n",
       "    }\n",
       "\n",
       "    .dataframe tbody tr th {\n",
       "        vertical-align: top;\n",
       "    }\n",
       "\n",
       "    .dataframe thead th {\n",
       "        text-align: right;\n",
       "    }\n",
       "</style>\n",
       "<table border=\"1\" class=\"dataframe\">\n",
       "  <thead>\n",
       "    <tr style=\"text-align: right;\">\n",
       "      <th></th>\n",
       "      <th>PERMNO</th>\n",
       "      <th>date</th>\n",
       "      <th>EXCHCD</th>\n",
       "      <th>SICCD</th>\n",
       "      <th>TICKER</th>\n",
       "      <th>TRDSTAT</th>\n",
       "      <th>CUSIP</th>\n",
       "      <th>DLSTCD</th>\n",
       "      <th>DLRET</th>\n",
       "      <th>PRC</th>\n",
       "      <th>RET</th>\n",
       "      <th>SHROUT</th>\n",
       "    </tr>\n",
       "  </thead>\n",
       "  <tbody>\n",
       "    <tr>\n",
       "      <th>0</th>\n",
       "      <td>10001</td>\n",
       "      <td>2005/01/03</td>\n",
       "      <td>3.0</td>\n",
       "      <td>4920</td>\n",
       "      <td>EWST</td>\n",
       "      <td>A</td>\n",
       "      <td>36720410</td>\n",
       "      <td>NaN</td>\n",
       "      <td>NaN</td>\n",
       "      <td>6.670</td>\n",
       "      <td>-0.033333</td>\n",
       "      <td>2599.0</td>\n",
       "    </tr>\n",
       "    <tr>\n",
       "      <th>1</th>\n",
       "      <td>10001</td>\n",
       "      <td>2005/01/04</td>\n",
       "      <td>3.0</td>\n",
       "      <td>4920</td>\n",
       "      <td>EWST</td>\n",
       "      <td>A</td>\n",
       "      <td>36720410</td>\n",
       "      <td>NaN</td>\n",
       "      <td>NaN</td>\n",
       "      <td>6.510</td>\n",
       "      <td>-0.023988</td>\n",
       "      <td>2599.0</td>\n",
       "    </tr>\n",
       "    <tr>\n",
       "      <th>2</th>\n",
       "      <td>10001</td>\n",
       "      <td>2005/01/05</td>\n",
       "      <td>3.0</td>\n",
       "      <td>4920</td>\n",
       "      <td>EWST</td>\n",
       "      <td>A</td>\n",
       "      <td>36720410</td>\n",
       "      <td>NaN</td>\n",
       "      <td>NaN</td>\n",
       "      <td>6.700</td>\n",
       "      <td>0.029186</td>\n",
       "      <td>2599.0</td>\n",
       "    </tr>\n",
       "    <tr>\n",
       "      <th>3</th>\n",
       "      <td>10001</td>\n",
       "      <td>2005/01/06</td>\n",
       "      <td>3.0</td>\n",
       "      <td>4920</td>\n",
       "      <td>EWST</td>\n",
       "      <td>A</td>\n",
       "      <td>36720410</td>\n",
       "      <td>NaN</td>\n",
       "      <td>NaN</td>\n",
       "      <td>6.510</td>\n",
       "      <td>-0.028358</td>\n",
       "      <td>2599.0</td>\n",
       "    </tr>\n",
       "    <tr>\n",
       "      <th>4</th>\n",
       "      <td>10001</td>\n",
       "      <td>2005/01/07</td>\n",
       "      <td>3.0</td>\n",
       "      <td>4920</td>\n",
       "      <td>EWST</td>\n",
       "      <td>A</td>\n",
       "      <td>36720410</td>\n",
       "      <td>NaN</td>\n",
       "      <td>NaN</td>\n",
       "      <td>6.546</td>\n",
       "      <td>0.005530</td>\n",
       "      <td>2599.0</td>\n",
       "    </tr>\n",
       "    <tr>\n",
       "      <th>...</th>\n",
       "      <td>...</td>\n",
       "      <td>...</td>\n",
       "      <td>...</td>\n",
       "      <td>...</td>\n",
       "      <td>...</td>\n",
       "      <td>...</td>\n",
       "      <td>...</td>\n",
       "      <td>...</td>\n",
       "      <td>...</td>\n",
       "      <td>...</td>\n",
       "      <td>...</td>\n",
       "      <td>...</td>\n",
       "    </tr>\n",
       "    <tr>\n",
       "      <th>33089264</th>\n",
       "      <td>93436</td>\n",
       "      <td>2022/12/23</td>\n",
       "      <td>3.0</td>\n",
       "      <td>9999.0</td>\n",
       "      <td>TSLA</td>\n",
       "      <td>A</td>\n",
       "      <td>88160R10</td>\n",
       "      <td>NaN</td>\n",
       "      <td>NaN</td>\n",
       "      <td>123.150</td>\n",
       "      <td>-0.017551</td>\n",
       "      <td>3157752.0</td>\n",
       "    </tr>\n",
       "    <tr>\n",
       "      <th>33089265</th>\n",
       "      <td>93436</td>\n",
       "      <td>2022/12/27</td>\n",
       "      <td>3.0</td>\n",
       "      <td>9999.0</td>\n",
       "      <td>TSLA</td>\n",
       "      <td>A</td>\n",
       "      <td>88160R10</td>\n",
       "      <td>NaN</td>\n",
       "      <td>NaN</td>\n",
       "      <td>109.100</td>\n",
       "      <td>-0.114089</td>\n",
       "      <td>3157752.0</td>\n",
       "    </tr>\n",
       "    <tr>\n",
       "      <th>33089266</th>\n",
       "      <td>93436</td>\n",
       "      <td>2022/12/28</td>\n",
       "      <td>3.0</td>\n",
       "      <td>9999.0</td>\n",
       "      <td>TSLA</td>\n",
       "      <td>A</td>\n",
       "      <td>88160R10</td>\n",
       "      <td>NaN</td>\n",
       "      <td>NaN</td>\n",
       "      <td>112.710</td>\n",
       "      <td>0.033089</td>\n",
       "      <td>3157752.0</td>\n",
       "    </tr>\n",
       "    <tr>\n",
       "      <th>33089267</th>\n",
       "      <td>93436</td>\n",
       "      <td>2022/12/29</td>\n",
       "      <td>3.0</td>\n",
       "      <td>9999.0</td>\n",
       "      <td>TSLA</td>\n",
       "      <td>A</td>\n",
       "      <td>88160R10</td>\n",
       "      <td>NaN</td>\n",
       "      <td>NaN</td>\n",
       "      <td>121.820</td>\n",
       "      <td>0.080827</td>\n",
       "      <td>3157752.0</td>\n",
       "    </tr>\n",
       "    <tr>\n",
       "      <th>33089268</th>\n",
       "      <td>93436</td>\n",
       "      <td>2022/12/30</td>\n",
       "      <td>3.0</td>\n",
       "      <td>9999.0</td>\n",
       "      <td>TSLA</td>\n",
       "      <td>A</td>\n",
       "      <td>88160R10</td>\n",
       "      <td>100.0</td>\n",
       "      <td>A</td>\n",
       "      <td>123.180</td>\n",
       "      <td>0.011164</td>\n",
       "      <td>3157752.0</td>\n",
       "    </tr>\n",
       "  </tbody>\n",
       "</table>\n",
       "<p>33089269 rows × 12 columns</p>\n",
       "</div>"
      ],
      "text/plain": [
       "          PERMNO        date  EXCHCD   SICCD TICKER TRDSTAT     CUSIP  DLSTCD  \\\n",
       "0          10001  2005/01/03     3.0    4920   EWST       A  36720410     NaN   \n",
       "1          10001  2005/01/04     3.0    4920   EWST       A  36720410     NaN   \n",
       "2          10001  2005/01/05     3.0    4920   EWST       A  36720410     NaN   \n",
       "3          10001  2005/01/06     3.0    4920   EWST       A  36720410     NaN   \n",
       "4          10001  2005/01/07     3.0    4920   EWST       A  36720410     NaN   \n",
       "...          ...         ...     ...     ...    ...     ...       ...     ...   \n",
       "33089264   93436  2022/12/23     3.0  9999.0   TSLA       A  88160R10     NaN   \n",
       "33089265   93436  2022/12/27     3.0  9999.0   TSLA       A  88160R10     NaN   \n",
       "33089266   93436  2022/12/28     3.0  9999.0   TSLA       A  88160R10     NaN   \n",
       "33089267   93436  2022/12/29     3.0  9999.0   TSLA       A  88160R10     NaN   \n",
       "33089268   93436  2022/12/30     3.0  9999.0   TSLA       A  88160R10   100.0   \n",
       "\n",
       "         DLRET      PRC        RET     SHROUT  \n",
       "0          NaN    6.670  -0.033333     2599.0  \n",
       "1          NaN    6.510  -0.023988     2599.0  \n",
       "2          NaN    6.700   0.029186     2599.0  \n",
       "3          NaN    6.510  -0.028358     2599.0  \n",
       "4          NaN    6.546   0.005530     2599.0  \n",
       "...        ...      ...        ...        ...  \n",
       "33089264   NaN  123.150  -0.017551  3157752.0  \n",
       "33089265   NaN  109.100  -0.114089  3157752.0  \n",
       "33089266   NaN  112.710   0.033089  3157752.0  \n",
       "33089267   NaN  121.820   0.080827  3157752.0  \n",
       "33089268     A  123.180   0.011164  3157752.0  \n",
       "\n",
       "[33089269 rows x 12 columns]"
      ]
     },
     "metadata": {},
     "output_type": "display_data"
    }
   ],
   "source": [
    "display(price_data)"
   ]
  },
  {
   "cell_type": "code",
   "execution_count": 5,
   "metadata": {},
   "outputs": [],
   "source": [
    "# PERMNO where RET == 'C'\n",
    "price_data[price_data['RET'] == 'C']['PERMNO'].unique()\n",
    "\n",
    "p = price_data[price_data['PERMNO'] == 10028]"
   ]
  },
  {
   "cell_type": "code",
   "execution_count": 6,
   "metadata": {},
   "outputs": [],
   "source": [
    "if(filter_exchanges):\n",
    "    # Group by permno and check if exchcd was ever in exchanges_to_keep\n",
    "    exchange_filter = price_data.groupby('PERMNO')['EXCHCD'].value_counts().unstack()\n",
    "    exchange_filter = exchange_filter[exchanges_to_keep].sum(axis=1) > 0\n",
    "    # Filter data\n",
    "    price_data = price_data[price_data['PERMNO'].isin(exchange_filter[exchange_filter].index)]"
   ]
  },
  {
   "cell_type": "code",
   "execution_count": 7,
   "metadata": {},
   "outputs": [],
   "source": [
    "if(filter_financial):\n",
    "    # We want to filter out all stocks that were ever in the financial sector\n",
    "    # We do this by filtering out all stocks that have a SICCD that starts with 6\n",
    "    in_finance = price_data.groupby('PERMNO')['SICCD'].apply(lambda x: any([str(siccd).startswith('6') for siccd in x]))\n",
    "    # Filter data\n",
    "    price_data = price_data[~price_data['PERMNO'].isin(in_finance[in_finance].index)]"
   ]
  },
  {
   "cell_type": "code",
   "execution_count": 8,
   "metadata": {},
   "outputs": [],
   "source": [
    "if(fill_forward_prices):\n",
    "    # Fill forward prices that are zero\n",
    "    price_data['PRC'] = price_data.groupby('PERMNO')['PRC'].apply(lambda x: x.replace(0, np.nan).ffill())"
   ]
  },
  {
   "cell_type": "code",
   "execution_count": 9,
   "metadata": {},
   "outputs": [],
   "source": [
    "if(fix_negative_prices):\n",
    "    # Fix negative prices\n",
    "    price_data['PRC'] = abs(price_data['PRC'])"
   ]
  },
  {
   "cell_type": "code",
   "execution_count": 10,
   "metadata": {},
   "outputs": [],
   "source": [
    "if(substitute_code_B):\n",
    "    # Substitute code 'B' with actual returns calculated from PRC\n",
    "    price_data['prev_price'] = price_data.groupby('PERMNO')['PRC'].shift(1)\n",
    "\n",
    "    code_b = price_data['RET'] == 'B'\n",
    "    price_data.loc[code_b, 'RET'] = price_data[code_b]['PRC'] / price_data[code_b]['prev_price'] - 1\n",
    "    # Drop prev_price\n",
    "    price_data = price_data.drop('prev_price', axis=1)"
   ]
  },
  {
   "cell_type": "code",
   "execution_count": 11,
   "metadata": {},
   "outputs": [],
   "source": [
    "if(substitute_code_C):\n",
    "    # Substitute code 'C' with actual returns calculated from PRC\n",
    "    price_data['prev_price'] = price_data.groupby('PERMNO')['PRC'].shift(1)\n",
    "    \n",
    "    code_c = price_data['RET'] == 'C'\n",
    "    price_data.loc[code_c, 'RET'] = price_data[code_c]['PRC'] / price_data[code_c]['prev_price'] - 1\n",
    "\n",
    "    # Drop prev_price\n",
    "    price_data = price_data.drop('prev_price', axis=1)"
   ]
  },
  {
   "cell_type": "code",
   "execution_count": 12,
   "metadata": {},
   "outputs": [],
   "source": [
    "if(drop_code_B_and_C):\n",
    "    code_b = price_data['RET'] == 'B'\n",
    "    code_c = price_data['RET'] == 'C'\n",
    "\n",
    "    price_data = price_data[~(code_b | code_c)]"
   ]
  },
  {
   "cell_type": "code",
   "execution_count": 13,
   "metadata": {},
   "outputs": [],
   "source": [
    "if(keep_only_below_threshold):\n",
    "    # Keep only stocks that have been below threshold\n",
    "    below_threshold = price_data.groupby('PERMNO')['PRC'].min() < threshold\n",
    "    # Filter data\n",
    "    price_data = price_data[price_data['PERMNO'].isin(below_threshold[below_threshold].index)]"
   ]
  },
  {
   "cell_type": "code",
   "execution_count": 21,
   "metadata": {},
   "outputs": [
    {
     "name": "stdout",
     "output_type": "stream",
     "text": [
      "3400\n"
     ]
    }
   ],
   "source": [
    "print(price_data['SHROUT'].isna().sum())\n",
    "\n",
    "if(remove_missing_shrout):\n",
    "    # Remove missing SHROUT\n",
    "    price_data = price_data[~price_data['SHROUT'].isna()]"
   ]
  },
  {
   "cell_type": "code",
   "execution_count": 22,
   "metadata": {},
   "outputs": [],
   "source": [
    "if(convert_shrout_from_thousands):\n",
    "    # Convert SHROUT from thousands\n",
    "    price_data['SHROUT'] = price_data['SHROUT'] * 1000"
   ]
  },
  {
   "cell_type": "code",
   "execution_count": 14,
   "metadata": {},
   "outputs": [],
   "source": [
    "# Export data\n",
    "price_data.to_csv('./../data/price_data_cleaned.csv', index=False)\n",
    "price_data.to_pickle('./../data/price_data_cleaned.pkl')"
   ]
  }
 ],
 "metadata": {
  "kernelspec": {
   "display_name": "Python 3",
   "language": "python",
   "name": "python3"
  },
  "language_info": {
   "codemirror_mode": {
    "name": "ipython",
    "version": 3
   },
   "file_extension": ".py",
   "mimetype": "text/x-python",
   "name": "python",
   "nbconvert_exporter": "python",
   "pygments_lexer": "ipython3",
   "version": "3.10.4"
  },
  "orig_nbformat": 4,
  "vscode": {
   "interpreter": {
    "hash": "0831c9a8f38bf0534c50bfaa0f7ad63ee7d3a6b807ce61f39252cf011aaed1cf"
   }
  }
 },
 "nbformat": 4,
 "nbformat_minor": 2
}
