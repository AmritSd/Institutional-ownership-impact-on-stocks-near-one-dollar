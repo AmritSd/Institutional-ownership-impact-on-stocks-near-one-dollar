{
 "cells": [
  {
   "attachments": {},
   "cell_type": "markdown",
   "metadata": {},
   "source": [
    "This notebook imports raw institutional data from WRDS. It then aggregates by CUSIP and forward fills to make quaterly data daily. This way it can be merged with the price data."
   ]
  },
  {
   "cell_type": "code",
   "execution_count": 1,
   "metadata": {},
   "outputs": [],
   "source": [
    "import pandas as pd\n",
    "import numpy as np\n",
    "\n",
    "\n",
    "# Get institutional holdings data\n",
    "institutional_holdings_filename = './../data/institutional_data_all.csv'\n",
    "institutional_holdings = pd.read_csv(institutional_holdings_filename)\n",
    "\n",
    "# groupby cusip and fdate and type and get the sum of shares\n",
    "institutional_holdings_agg = institutional_holdings.groupby(['cusip', 'fdate', 'type'])['shares'].sum().reset_index()\n",
    "# Just type == 5\n",
    "institutional_holdings_agg = institutional_holdings_agg[institutional_holdings_agg['type'] == 5]\n",
    "# Make fdate a datetime\n",
    "institutional_holdings_agg['fdate'] = pd.to_datetime(institutional_holdings_agg['fdate'], format='%Y/%m/%d')\n",
    "# make institution holdings agg daily instead of quarterly by resampling\n",
    "institutional_holdings_agg_daily = institutional_holdings_agg.set_index('fdate').groupby('cusip')['shares'].resample('D').ffill().reset_index()\n"
   ]
  },
  {
   "cell_type": "code",
   "execution_count": 2,
   "metadata": {},
   "outputs": [
    {
     "data": {
      "text/html": [
       "<div>\n",
       "<style scoped>\n",
       "    .dataframe tbody tr th:only-of-type {\n",
       "        vertical-align: middle;\n",
       "    }\n",
       "\n",
       "    .dataframe tbody tr th {\n",
       "        vertical-align: top;\n",
       "    }\n",
       "\n",
       "    .dataframe thead th {\n",
       "        text-align: right;\n",
       "    }\n",
       "</style>\n",
       "<table border=\"1\" class=\"dataframe\">\n",
       "  <thead>\n",
       "    <tr style=\"text-align: right;\">\n",
       "      <th></th>\n",
       "      <th>cusip</th>\n",
       "      <th>fdate</th>\n",
       "      <th>shares</th>\n",
       "    </tr>\n",
       "  </thead>\n",
       "  <tbody>\n",
       "    <tr>\n",
       "      <th>0</th>\n",
       "      <td>00030310</td>\n",
       "      <td>2015-09-30</td>\n",
       "      <td>181</td>\n",
       "    </tr>\n",
       "    <tr>\n",
       "      <th>1</th>\n",
       "      <td>00030310</td>\n",
       "      <td>2015-10-01</td>\n",
       "      <td>181</td>\n",
       "    </tr>\n",
       "    <tr>\n",
       "      <th>2</th>\n",
       "      <td>00030310</td>\n",
       "      <td>2015-10-02</td>\n",
       "      <td>181</td>\n",
       "    </tr>\n",
       "    <tr>\n",
       "      <th>3</th>\n",
       "      <td>00030310</td>\n",
       "      <td>2015-10-03</td>\n",
       "      <td>181</td>\n",
       "    </tr>\n",
       "    <tr>\n",
       "      <th>4</th>\n",
       "      <td>00030310</td>\n",
       "      <td>2015-10-04</td>\n",
       "      <td>181</td>\n",
       "    </tr>\n",
       "    <tr>\n",
       "      <th>...</th>\n",
       "      <td>...</td>\n",
       "      <td>...</td>\n",
       "      <td>...</td>\n",
       "    </tr>\n",
       "    <tr>\n",
       "      <th>69713079</th>\n",
       "      <td>Z1961929</td>\n",
       "      <td>2016-09-26</td>\n",
       "      <td>3590</td>\n",
       "    </tr>\n",
       "    <tr>\n",
       "      <th>69713080</th>\n",
       "      <td>Z1961929</td>\n",
       "      <td>2016-09-27</td>\n",
       "      <td>3590</td>\n",
       "    </tr>\n",
       "    <tr>\n",
       "      <th>69713081</th>\n",
       "      <td>Z1961929</td>\n",
       "      <td>2016-09-28</td>\n",
       "      <td>3590</td>\n",
       "    </tr>\n",
       "    <tr>\n",
       "      <th>69713082</th>\n",
       "      <td>Z1961929</td>\n",
       "      <td>2016-09-29</td>\n",
       "      <td>3590</td>\n",
       "    </tr>\n",
       "    <tr>\n",
       "      <th>69713083</th>\n",
       "      <td>Z1961929</td>\n",
       "      <td>2016-09-30</td>\n",
       "      <td>3390</td>\n",
       "    </tr>\n",
       "  </tbody>\n",
       "</table>\n",
       "<p>69713084 rows × 3 columns</p>\n",
       "</div>"
      ],
      "text/plain": [
       "             cusip      fdate  shares\n",
       "0         00030310 2015-09-30     181\n",
       "1         00030310 2015-10-01     181\n",
       "2         00030310 2015-10-02     181\n",
       "3         00030310 2015-10-03     181\n",
       "4         00030310 2015-10-04     181\n",
       "...            ...        ...     ...\n",
       "69713079  Z1961929 2016-09-26    3590\n",
       "69713080  Z1961929 2016-09-27    3590\n",
       "69713081  Z1961929 2016-09-28    3590\n",
       "69713082  Z1961929 2016-09-29    3590\n",
       "69713083  Z1961929 2016-09-30    3390\n",
       "\n",
       "[69713084 rows x 3 columns]"
      ]
     },
     "metadata": {},
     "output_type": "display_data"
    }
   ],
   "source": [
    "display(institutional_holdings_agg_daily)"
   ]
  },
  {
   "cell_type": "code",
   "execution_count": 3,
   "metadata": {},
   "outputs": [],
   "source": [
    "# Export institional_data_agg_all.csv and pkl files\n",
    "institutional_holdings_agg_daily.to_csv('./../data/institutional_data_agg_all.csv', index=False)\n",
    "institutional_holdings_agg_daily.to_pickle('./../data/institutional_data_agg_all.pkl')"
   ]
  }
 ],
 "metadata": {
  "kernelspec": {
   "display_name": "Python 3",
   "language": "python",
   "name": "python3"
  },
  "language_info": {
   "codemirror_mode": {
    "name": "ipython",
    "version": 3
   },
   "file_extension": ".py",
   "mimetype": "text/x-python",
   "name": "python",
   "nbconvert_exporter": "python",
   "pygments_lexer": "ipython3",
   "version": "3.10.4"
  },
  "orig_nbformat": 4
 },
 "nbformat": 4,
 "nbformat_minor": 2
}
